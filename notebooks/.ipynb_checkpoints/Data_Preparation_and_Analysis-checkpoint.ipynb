{
 "cells": [
  {
   "cell_type": "markdown",
   "metadata": {},
   "source": [
    "# **TITLE**"
   ]
  },
  {
   "cell_type": "markdown",
   "metadata": {},
   "source": [
    "1. [Introduction](#Introduction)\n",
    "2. [Data Preparation (SQL)](#Data-Preparation-(SQL))\n",
    "3. [Conclusion](#Conclusion)"
   ]
  },
  {
   "cell_type": "markdown",
   "metadata": {},
   "source": [
    "## **Introduction**"
   ]
  },
  {
   "cell_type": "markdown",
   "metadata": {},
   "source": [
    "### **Background**"
   ]
  },
  {
   "cell_type": "markdown",
   "metadata": {},
   "source": [
    "### **Objective**"
   ]
  },
  {
   "cell_type": "markdown",
   "metadata": {},
   "source": [
    "### **Data Source**"
   ]
  },
  {
   "cell_type": "markdown",
   "metadata": {},
   "source": [
    "| Column                 | Description                                                                                                                          | Type    | Classification |\n",
    "|------------------------|--------------------------------------------------------------------------------------------------------------------------------------|---------|----------------|\n",
    "| `id`                   | **Loan ID:** Unique identifier for each loan, serving as a primary key to track and manage loans throughout their lifecycle.         | Integer | Numerical      |\n",
    "| `address_state`        | **Address State:** Indicates the borrower's location to assess regional risks and compliance with state regulations.                 | String  | Categorical    |\n",
    "| `application_type`     | **Application Type:** Type of application (Individual or Joint), differentiating the processing and requirements.                    | String  | Categorical    |\n",
    "| `emp_length`           | **Employee Length:** Provides insights into employment stability, indicating job security and repayment ability.                    | String  | Categorical    |\n",
    "| `emp_title`            | **Employee Title:** Specifies the borrower's job title, aiding in income source verification and financial capacity assessment.    | String  | Categorical    |\n",
    "| `grade`                | **Grade:** Risk classification assigned based on creditworthiness, influencing loan pricing and attractiveness to investors.         | String  | Categorical    |\n",
    "| `home_ownership`       | **Home Ownership:** Indicates housing status, providing insights into financial stability and collateral availability.               | String  | Categorical    |\n",
    "| `issue_date`           | **Issue Date:** Marks the origination date of the loan, crucial for tracking, interest calculations, and maturity assessments.       | String  | Categorical    |\n",
    "| `last_credit_pull_date`| **Last Credit Pull Date:** Records when the borrower’s credit report was last accessed, helping monitor creditworthiness updates.   | String  | Categorical    |\n",
    "| `last_payment_date`    | **Last Payment Date:** Indicates the most recent payment received, tracking payment history and assessing delinquency.              | String  | Categorical    |\n",
    "| `loan_status`          | **Loan Status:** Shows the current state of the loan (e.g., fully paid, current, default), used for risk analysis and provisioning. | String  | Categorical    |\n",
    "| `next_payment_date`    | **Next Payment Date:** Estimates the date of the next loan payment, aiding in cash flow forecasting and revenue projection.         | String  | Categorical    |\n",
    "| `member_id`            | **Member ID:** Unique identifier for the member, used to track individual borrowers across multiple loans.                           | Integer | Numerical      |\n",
    "| `purpose`              | **Purpose:** Specifies the reason for the loan (e.g., debt consolidation, education), aligning loan terms with borrower needs.       | String  | Categorical    |\n",
    "| `sub_grade`            | **Sub Grade:** Provides a finer level of risk differentiation within grades, tailoring terms and interest rates to risk profiles.    | String  | Categorical    |\n",
    "| `term`                 | **Term:** Defines the loan's duration in months, setting the repayment period and structuring loan agreements.                       | String  | Categorical    |\n",
    "| `verification_status`  | **Verification Status:** Indicates the verification of borrower's financial information, assessing data accuracy and credibility.    | String  | Categorical    |\n",
    "| `annual_income`        | **Annual Income:** Total yearly earnings of the borrower, used to determine loan eligibility and evaluate creditworthiness.          | Float   | Numerical      |\n",
    "| `dti`                  | **DTI (Debt-to-Income Ratio):** Measures debt burden relative to income, assessing capacity for additional debt.                     | Float   | Numerical      |\n",
    "| `installment`          | **Instalment:** Fixed monthly payment amount for the loan, used to structure terms and assess payment affordability.                 | Float   | Numerical      |\n",
    "| `int_rate`             | **Interest Rate:** Annual cost of borrowing, key in loan pricing, profit management, and investor attraction.                        | Float   | Numerical      |\n",
    "| `loan_amount`          | **Loan Amount:** Total sum borrowed, defining the principal amount, used to determine the size and scope of the loan.                | Integer | Numerical      |\n",
    "| `total_acc`            | **Total Accounts:** Total number of credit lines in the borrower's credit file, used for comprehensive credit assessment.            | Integer | Numerical      |\n",
    "| `total_payment`        | **Total Payment:** Payments received to date for total amount funded, important for financial tracking and analysis.                 | Integer | Numerical      |"
   ]
  },
  {
   "cell_type": "markdown",
   "metadata": {},
   "source": [
    "### **Analysis Goals**"
   ]
  },
  {
   "cell_type": "markdown",
   "metadata": {},
   "source": [
    "## **Data Preparation in SQL**"
   ]
  },
  {
   "cell_type": "markdown",
   "metadata": {},
   "source": [
    "### **Initializing the Database Environment**"
   ]
  },
  {
   "cell_type": "markdown",
   "metadata": {},
   "source": [
    "**In order to prepare the environment for data analysis, I first established a database within the SQL Server environment. The following steps outline the process I took to create the database for this project:**"
   ]
  },
  {
   "cell_type": "markdown",
   "metadata": {},
   "source": [
    "**1. Connecting to SQL Server Management Studio (SSMS)**\n",
    "\n",
    "* I started by opening Microsoft SQL Server Management Studio (SSMS).\n",
    "* Then, I entered the appropriate server name (or IP address) and my login credentials to connect to the SQL Server instance.\n",
    "\n",
    "**2. Creating a New Database**\n",
    "\n",
    "* In the Object Explorer, I right-clicked on the \"Databases\" folder and chose \"New Database\".\n",
    "* I named the new database `\"Bank Loan DB\"` to keep it easily identifiable.\n",
    "* For this initial setup, I left the remaining options as their defaults and clicked \"OK\" to finish creating the database."
   ]
  },
  {
   "cell_type": "markdown",
   "metadata": {},
   "source": [
    "![1. new db.png](../src/img/SQL/Data_Preparation/1_new_db.png)"
   ]
  },
  {
   "cell_type": "markdown",
   "metadata": {},
   "source": [
    "![2. new db.png](../src/img/SQL/Data_Preparation/2_new_db.png)"
   ]
  },
  {
   "cell_type": "markdown",
   "metadata": {},
   "source": [
    "**3. Verifying Database Creation**\n",
    "\n",
    "* To make sure everything worked, I refreshed the \"Databases\" folder in Object Explorer. My newly created `\"Bank Loan DB\"` database was there as expected."
   ]
  },
  {
   "cell_type": "markdown",
   "metadata": {},
   "source": [
    "### **Importing the Financial Loan Data**"
   ]
  },
  {
   "cell_type": "markdown",
   "metadata": {},
   "source": [
    "**1. Importing the CSV Data**\n",
    "\n",
    "After successfully creating the database, I proceeded to import the \"financial_loan.csv\" file. Within SQL Server Management Studio (SSMS), I navigated to the newly created database and right-clicked on the \"Tables\" folder. From the context menu, I selected \"Import Flat File\" to initiate the import process. "
   ]
  },
  {
   "cell_type": "markdown",
   "metadata": {},
   "source": [
    "![4. new db.png](../src/img/SQL/Data_Preparation/3_new_db.png)"
   ]
  },
  {
   "cell_type": "markdown",
   "metadata": {},
   "source": [
    "**2. Specifying File Location and Table Name**\n",
    "\n",
    "* In the \"Import Flat File\" wizard, I located the \"financial_loan.csv\" file on my computer and provided its path.\n",
    "* To store the imported data within the database, I assigned the name `\"bank_loan_data\"` to the new table that would be created. \n",
    "\n",
    "**3. Refining the Table Schema for Data Accuracy and Efficiency**\n",
    "\n",
    "After importing the data, I carefully reviewed the table schema generated by SSMS. To optimize the table's structure and ensure data accuracy, I made several adjustments:\n",
    "\n",
    "**3.1. Primary Keys**\n",
    "\n",
    "* **What is a Primary Key:** A primary key is a column (or a combination of columns) that serves as a unique identifier for every row within a table. Primary keys are essential for maintaining data integrity, ensuring that each record can be reliably located and referenced.\n",
    "\n",
    "* **Our Choice:** In this case, I designated the \"id\" column as the primary key, recognizing that it holds unique values for each loan record.\n",
    "\n",
    "**3.2. Choosing between VARCHAR and NVARCHAR**\n",
    "\n",
    "* **Rationale:** I noticed that many string columns were initially assigned the NVARCHAR(50) datatype. Knowing that our dataset exclusively uses English characters, I converted these to VARCHAR(50) to improve storage efficiency. NVARCHAR stores data using Unicode, which supports a wider range of characters, while VARCHAR uses a more space-efficient encoding for standard English text.\n",
    "\n",
    "**3.3. Adjusting Character Limits:**\n",
    "\n",
    "* **Example:** For the \"emp_title\" column, I increased the character limit from 50 to 100 to accommodate some longer job titles present in the data.\n",
    "\n",
    "**3.4. Changing INT vs. SMALLINT**\n",
    "\n",
    "* **Reasoning:** I observed that the \"loan_amnt\" and \"total_pymnt\" columns were initially set as SMALLINT. Since our dataset contains loan values that exceed the maximum range supported by SMALLINT, I changed the datatype to INT to prevent potential errors. INT allows for a wider range of integer values.\n",
    "\n",
    "By refining the table schema, I was able to successfully import the CSV file into the database with the appropriate data types and constraints in place."
   ]
  },
  {
   "cell_type": "markdown",
   "metadata": {},
   "source": [
    "**BEFORE:**\n",
    "\n",
    "![6. new db before.png](../src/img/SQL/Data_Preparation/5_new_db_before.png)"
   ]
  },
  {
   "cell_type": "markdown",
   "metadata": {},
   "source": [
    "**AFTER:**\n",
    "\n",
    "![6. new db afterpng.png](../src/img/SQL/Data_Preparation/5_new_db_after.png)"
   ]
  },
  {
   "cell_type": "markdown",
   "metadata": {},
   "source": [
    "**4. Verifying Successful Import**\n",
    "\n",
    "To ensure the CSV data was imported correctly, I opened a new query window within SSMS. Using the following query, I was able to view the entire contents of the newly created table, confirming successful data import:\n",
    "\n",
    "![7. new db 1.png](../src/img/SQL/Data_Preparation/6_new_db_1.png)\n",
    "\n",
    "```sql\n",
    "SELECT \n",
    "    * \n",
    "FROM \n",
    "    bank_loan_data \n",
    "```\n",
    "\n",
    "I carefully checked that the query results matched the original CSV data in terms of column names, number of rows, and overall structure. This verification confirmed that the import process was successful and I was ready to move on to the next phase of my project.\n",
    "\n",
    "![7. new db 2.png](../src/img/SQL/Data_Preparation/6_new_db_2.png)"
   ]
  },
  {
   "cell_type": "markdown",
   "metadata": {},
   "source": [
    "## **Analyzing Financial Loan Data in SQL**"
   ]
  },
  {
   "cell_type": "markdown",
   "metadata": {},
   "source": [
    "**Loan Performance Report and Key Performance Indicators (KPIs)**\n",
    "\n",
    "This section focuses on leveraging the imported loan data to create a comprehensive loan performance report. The report will provide valuable insights into key metrics associated with the bank's lending activities. By analyzing these metrics, I can gain a deeper understanding of the bank's portfolio health, identify potential trends, and ultimately support data-driven decision-making.\n",
    "\n",
    "**Utilizing KPIs for Informed Decisions**\n",
    "\n",
    "To achieve these goals, I will utilize a set of Key Performance Indicators (KPIs) specifically tailored to the loan dataset. These KPIs act as quantifiable measures that provide a clear picture of the bank's lending performance. By calculating and analyzing these KPIs, I can gain valuable insights into areas such as loan profitability, risk management, and overall portfolio health.\n",
    "\n",
    "**Understanding the Data Through KPIs**\n",
    "\n",
    "By systematically calculating these KPIs and interpreting the results, I can transform the raw data into actionable insights. This information will empower stakeholders to make informed decisions regarding lending strategies, risk mitigation tactics, and overall portfolio optimization. \n",
    "\n",
    "This approach allows us to move beyond simply \"looking at the data\" and instead leverage its power to gain a deeper understanding of the bank's lending activities and their impact on financial performance."
   ]
  },
  {
   "cell_type": "markdown",
   "metadata": {},
   "source": [
    "### **Summary Key Performance Indicators (KPIs) Analysis**"
   ]
  },
  {
   "cell_type": "markdown",
   "metadata": {},
   "source": [
    "Here's the outline of the KPIs I'll explore within this section:"
   ]
  },
  {
   "cell_type": "markdown",
   "metadata": {},
   "source": [
    "#### **1. Total Loan Applications:**"
   ]
  },
  {
   "cell_type": "markdown",
   "metadata": {},
   "source": [
    "**Explanation:** This KPI provides insights into the overall volume of loan applications received by the bank. Analyzing changes in this KPI over time can reveal trends in borrowing demand and help assess the efficacy of the bank's marketing and outreach efforts.\n",
    "\n",
    "**Components:**"
   ]
  },
  {
   "cell_type": "markdown",
   "metadata": {},
   "source": [
    "1.  **Total Number of Loans:**\n",
    "    *   **Explanation:** This metric simply represents the total number of loan applications present within the dataset, reflecting the overall volume of lending activity for the bank.\n",
    "    *   **Query:**\n",
    "\n",
    "        ```sql\n",
    "        SELECT\n",
    "            COUNT(*) AS Total_Loan_Applications\n",
    "        FROM\n",
    "            bank_loan_data;\n",
    "        ```\n",
    "    *   **Results:**\n",
    "    \n",
    "        ![Total Loan Applications.png](../src/img/SQL/KPI/1.%20Total%20Loan%20Applications/Total_Loan_Applications.png)"
   ]
  },
  {
   "cell_type": "markdown",
   "metadata": {},
   "source": [
    "2.  **Number of Loans by Month:**\n",
    "    *   **Explanation:** Since the data is from 2021, it makes more sense to analyze loan volume on a monthly basis instead of the typical \"month to date\" approach. Tracking loan application volume by month helps identify seasonal trends or shifts in lending activity throughout the year.\n",
    "    *   **Query:**\n",
    "\n",
    "        ```sql\n",
    "        SELECT\n",
    "\t        DATENAME(month, issue_date) AS Month,\n",
    "\t        COUNT(*) AS Loan_Application_Count\n",
    "        FROM\n",
    "\t        bank_loan_data\n",
    "        GROUP BY\n",
    "\t        DATENAME(month, issue_date),\n",
    "\t        MONTH(issue_date)\n",
    "        ORDER BY\n",
    "            MONTH(issue_date);\n",
    "        ```\n",
    "    *   **Results:**\n",
    "\n",
    "        ![mtd loan count.png](../src/img/SQL/KPI/1.%20Total%20Loan%20Applications/mtd_loan_count.png)\n",
    "\n",
    "    *   **Note:** To simplify the next calculation, I've stored the revised query results in a new table called \"monthly_loan_counts\"\n",
    "    *   **Query:**\n",
    "\n",
    "        ```sql\n",
    "        SELECT\n",
    "            DATENAME(month, issue_date) AS Month,\n",
    "            MONTH(issue_date) AS month_num,\n",
    "            COUNT(*) AS Loan_Application_Count\n",
    "        INTO\n",
    "            monthly_loan_counts\n",
    "        FROM\n",
    "            bank_loan_data\n",
    "        GROUP BY\n",
    "            DATENAME(month, issue_date),\n",
    "            MONTH(issue_date)\n",
    "        ORDER BY\n",
    "            MONTH(issue_date);\n",
    "        ```"
   ]
  },
  {
   "cell_type": "markdown",
   "metadata": {},
   "source": [
    "3.  **Month-Over-Month (MoM) Percentage Change in Number of Loans**\n",
    "    *   **Explanation:** This metric calculates the percentage change in loan applications from one month to the next. Monitoring this change can highlight periods of accelerated or decreased lending activity and indicate potential shifts in market conditions or internal lending policies.\n",
    "    *   **Query:**\n",
    "\n",
    "        ```sql\n",
    "        SELECT \n",
    "\t        m1.Month,\n",
    "\t        CAST(((m1.Loan_Application_Count - m2.Loan_Application_Count) * 100.0 / m2.Loan_Application_Count) AS DECIMAL(10,3)) AS Loan_MoM_Change_Percent\n",
    "        FROM \n",
    "\t        monthly_loan_counts AS m1\n",
    "        LEFT JOIN \n",
    "            monthly_loan_counts AS m2\n",
    "        ON \n",
    "\t        m1.month_num = m2.month_num + 1\n",
    "        ORDER BY\n",
    "\t    m1.month_num;\n",
    "        ```\n",
    "    *   **Results:**\n",
    "  \n",
    "        ![mom num loan pct.png](../src/img/SQL/KPI/1.%20Total%20Loan%20Applications/mom_num_loan_pct.png)"
   ]
  },
  {
   "cell_type": "markdown",
   "metadata": {},
   "source": [
    "#### **2. Total Funded Amount:**"
   ]
  },
  {
   "cell_type": "markdown",
   "metadata": {},
   "source": [
    "**Explanation:** This KPI reveals the total dollar amount distributed by the bank through loans within a given period. Analyzing this metric helps understand the bank's overall lending volume and can shed light on changes in lending activity and risk tolerance over time.\n",
    "\n",
    "**Components:**"
   ]
  },
  {
   "cell_type": "markdown",
   "metadata": {},
   "source": [
    "1. **Total Funded Amount:**\n",
    "   * **Explanation:** This metric calculates the overall sum of loans funded by the bank within the dataset.\n",
    "   * **Query:** \n",
    "      ```sql\n",
    "      SELECT\n",
    "        SUM(loan_amount) AS total_funded_amount\n",
    "      FROM\n",
    "        bank_loan_data;\n",
    "      ```\n",
    "    * **Results:**\n",
    "\n",
    "      ![image.png](../src/img/SQL/KPI/2.%20Total%20Funded%20Amount/total.png)"
   ]
  },
  {
   "cell_type": "markdown",
   "metadata": {},
   "source": [
    "2. **Total Funded Amount by Month:**\n",
    "   * **Explanation:** Since the data is from 2021, it makes sense to track the total funded amount on a monthly basis instead of a traditional \"month to date\" approach. This allows to identify potential seasonal fluctuations or other trends in the bank's lending volume throughout the year.\n",
    "   * **Query:** \n",
    "      ```sql\n",
    "      SELECT\n",
    "         DATENAME(month, issue_date) AS month,\n",
    "         SUM(loan_amount) AS total_funded_amount\n",
    "      FROM\n",
    "         bank_loan_data\n",
    "      GROUP BY\n",
    "         DATENAME(month, issue_date),\n",
    "         MONTH(issue_date)\n",
    "      ORDER BY\n",
    "         MONTH(issue_date);\n",
    "      ```\n",
    "    * **Results:**\n",
    "\n",
    "      ![image.png](../src/img/SQL/KPI/2.%20Total%20Funded%20Amount/mtd.png)\n",
    "\n",
    "    *   **Note:** To simplify the next calculation, I've stored the revised query results in a new table called \"monthly_total_fund\".\n",
    "    *   **Query:**\n",
    "\n",
    "        ```sql\n",
    "        SELECT\n",
    "            DATENAME(month, issue_date) AS month,\n",
    "            MONTH(issue_date) AS month_num,\n",
    "            SUM(loan_amount) AS total_funded_amount\n",
    "        INTO\n",
    "            monthly_total_fund\n",
    "        FROM\n",
    "            bank_loan_data\n",
    "        GROUP BY\n",
    "            DATENAME(month, issue_date),\n",
    "            MONTH(issue_date)\n",
    "        ORDER BY\n",
    "            MONTH(issue_date);\n",
    "        ```"
   ]
  },
  {
   "cell_type": "markdown",
   "metadata": {},
   "source": [
    "3. **Month-Over-Month (MoM) Percentage Change in Total Funded Amount:**\n",
    "   * **Explanation:** This metric helps track the percentage change in the total dollar amount funded as loans from one month to the next. Analyzing this percentage change can reveal significant shifts in lending volume or changes in the target size of loans being approved.\n",
    "   * **Query:** \n",
    "      ```sql\n",
    "      SELECT \n",
    "         m1.Month,\n",
    "         CAST(((m1.total_funded_amount - m2.total_funded_amount) * 100.0 / m2.total_funded_amount) AS DECIMAL(10,3)) AS total_funded_MoM_change_pct\n",
    "      FROM \n",
    "         monthly_total_fund AS m1\n",
    "      LEFT JOIN \n",
    "         monthly_total_fund AS m2\n",
    "      ON \n",
    "         m1.month_num = m2.month_num + 1\n",
    "      ORDER BY\n",
    "         m1.month_num;\n",
    "      ```\n",
    "    * **Results:**\n",
    "\n",
    "      ![image.png](../src/img/SQL/KPI/2.%20Total%20Funded%20Amount/mom.png)"
   ]
  },
  {
   "cell_type": "markdown",
   "metadata": {},
   "source": [
    "#### **3. Total Amount Received**"
   ]
  },
  {
   "cell_type": "markdown",
   "metadata": {},
   "source": [
    "**Explanation:** This KPI tracks the total sum of repayments received by the bank from borrowers. Analyzing this metric is crucial for assessing the bank's cash flow health and its ability to collect on outstanding loans. It can also indicate trends in borrower repayment behavior and potential delinquency rates.\n",
    "\n",
    "**Components:**"
   ]
  },
  {
   "cell_type": "markdown",
   "metadata": {},
   "source": [
    "1. **Total Amount Received:**\n",
    "   * **Explanation:** This metric calculates the total sum of all loan repayments received by the bank within the dataset.\n",
    "   * **Query:** \n",
    "      ```sql\n",
    "      SELECT \n",
    "         SUM(total_payment) AS total_amount_received \n",
    "      FROM \n",
    "         bank_loan_data;\n",
    "      ``` \n",
    "   * **Result:**\n",
    "  \n",
    "      ![image.png](../src/img/SQL/KPI/3.%20Total%20Amount%20Received/total_amount_recivied.png)"
   ]
  },
  {
   "cell_type": "markdown",
   "metadata": {},
   "source": [
    "2. **Total Amount Received by Month:**\n",
    "   * **Explanation:** Following the approach used in previous KPIs, instead of \"month to date,\" I'll track the total amount received on a monthly basis. This allows to identify potential seasonal trends or patterns in borrower repayments throughout the year. \n",
    "   * **Query:** \n",
    "      ```sql\n",
    "       SELECT\n",
    "         DATENAME(month, issue_date) AS month,\n",
    "         SUM(total_payment) AS total_funded_amount\n",
    "      FROM\n",
    "         bank_loan_data\n",
    "      GROUP BY\n",
    "         DATENAME(month, issue_date),\n",
    "         MONTH(issue_date)\n",
    "      ORDER BY\n",
    "         MONTH(issue_date);\n",
    "      ``` \n",
    "   * **Result:**\n",
    "\n",
    "      ![image.png](../src/img/SQL/KPI/3.%20Total%20Amount%20Received/total_amount_recivied_mtd.png)\n",
    "\n",
    "   * **Note:** To simplify the next calculation, I've stored the revised query results in a new table called \"monthly_amount_received\".\n",
    "   * **Query:**\n",
    "      ```sql\n",
    "        SELECT\n",
    "            DATENAME(month, issue_date) AS month,\n",
    "            MONTH(issue_date) AS month_num,\n",
    "            SUM(total_payment) AS total_amount_received\n",
    "         INTO\n",
    "            monthly_amount_received\n",
    "         FROM\n",
    "            bank_loan_data\n",
    "         GROUP BY\n",
    "            DATENAME(month, issue_date),\n",
    "            MONTH(issue_date)\n",
    "         ORDER BY\n",
    "            MONTH(issue_date);\n",
    "      ``` "
   ]
  },
  {
   "cell_type": "markdown",
   "metadata": {},
   "source": [
    "3. **Month-Over-Month (MoM) Percentage Change in Total Amount Received:**\n",
    "   * **Explanation:** This metric helps track the percentage change in the total dollar amount received from loan repayments between one month and the next. Analyzing this percentage change can reveal trends in repayment patterns and potential areas for improvement in collection strategies.\n",
    "   * **Query:** \n",
    "      ```sql\n",
    "      SELECT\n",
    "         m1.month AS Month,\n",
    "         CAST(((m1.total_amount_received - m2.total_amount_received) * 100.0 / m2.total_amount_received) AS DECIMAL(10,3)) AS total_received_MoM_change_pct\n",
    "      FROM\n",
    "         monthly_amount_received AS m1\n",
    "      LEFT JOIN\n",
    "         monthly_amount_received AS m2\n",
    "      ON\n",
    "         m1.month_num = m2.month_num + 1\n",
    "      ORDER BY\n",
    "         m1.month_num;\n",
    "      ``` \n",
    "   * **Result:**\n",
    "\n",
    "      ![image.png](../src/img/SQL/KPI/3.%20Total%20Amount%20Received/total_amount_recivied_mom.png)"
   ]
  },
  {
   "cell_type": "markdown",
   "metadata": {},
   "source": [
    "#### **4. Average Interest Rate**"
   ]
  },
  {
   "cell_type": "markdown",
   "metadata": {},
   "source": [
    "**Explanation:** This KPI reveals the average interest rate charged by the bank across its loan portfolio. Tracking changes in this KPI over time can help assess shifts in the bank's pricing strategies, evolving market conditions, and potentially the risk profile of its lending activities.\n",
    "\n",
    "**Components:**"
   ]
  },
  {
   "cell_type": "markdown",
   "metadata": {},
   "source": [
    "1.  **Overall Average Interest Rate**\n",
    "    *   **Explanation:** This metric calculates the average interest rate across all loans within the dataset.\n",
    "    *   **Query:**\n",
    "        ```sql\n",
    "         SELECT\n",
    "            ROUND(AVG(int_rate) * 100, 3) AS avg_interest_rate\n",
    "        FROM\n",
    "            bank_loan_data;\n",
    "        ```\n",
    "    *   **Result:**\n",
    "\n",
    "        ![image.png](../src/img/SQL/KPI/4.%20Average%20Interest%20Rate/avg_intestest_rate_total.png)"
   ]
  },
  {
   "cell_type": "markdown",
   "metadata": {},
   "source": [
    "2.  **Monthly Average Interest Rate**\n",
    "    *   **Explanation:** This metric tracks the average interest rate on a month-by-month basis, revealing potential fluctuations in the bank's pricing strategies throughout the year.\n",
    "    *   **Query:**\n",
    "        ```sql\n",
    "        SELECT\n",
    "            DATENAME(month, issue_date) AS month,\n",
    "            ROUND(AVG(int_rate) * 100, 3) AS avg_interest_rate\n",
    "        FROM\n",
    "            bank_loan_data\n",
    "        GROUP BY\n",
    "            DATENAME(month, issue_date),\n",
    "            MONTH(issue_date)\n",
    "        ORDER BY\n",
    "            MONTH(issue_date);\n",
    "        ```\n",
    "    *   **Result:**\n",
    "\n",
    "        ![image.png](../src/img/SQL/KPI/4.%20Average%20Interest%20Rate/avg_intestest_rate_mtd.png)\n",
    "        \n",
    "    * **Note:** To simplify the next calculation, I've stored the revised query results in a new table called \"monthly_avg_interest\".\n",
    "    * **Query:**\n",
    "        ```sql\n",
    "        SELECT\n",
    "            DATENAME(month, issue_date) AS month,\n",
    "            MONTH(issue_date) AS month_num,\n",
    "            ROUND(AVG(int_rate) * 100, 3) AS avg_interest_rate\n",
    "        INTO\n",
    "            monthly_avg_interest\n",
    "        FROM\n",
    "            bank_loan_data\n",
    "        GROUP BY\n",
    "            DATENAME(month, issue_date),\n",
    "            MONTH(issue_date)\n",
    "        ORDER BY\n",
    "            MONTH(issue_date);\n",
    "        ```"
   ]
  },
  {
   "cell_type": "markdown",
   "metadata": {},
   "source": [
    "3.  **Month-Over-Month (MoM) Percentage Change in Average Interest Rate**\n",
    "    *   **Explanation:** This metric calculates the percentage change in the average interest rate from one month to the next, highlighting shifts in the bank's interest rate levels over time.\n",
    "    *   **Query:**\n",
    "        ```sql\n",
    "        SELECT\n",
    "            m1.month AS Month,\n",
    "            CAST(((m1.avg_interest_rate - m2.avg_interest_rate) * 100.0 / m2.avg_interest_rate) AS DECIMAL(10,3)) AS avg_interest_rate_MoM_change_pct\n",
    "        FROM\n",
    "            monthly_avg_interest AS m1\n",
    "        LEFT JOIN\n",
    "            monthly_avg_interest AS m2\n",
    "        ON\n",
    "            m1.month_num = m2.month_num + 1\n",
    "        ORDER BY\n",
    "            m1.month_num;\n",
    "        ```\n",
    "    *   **Result:**\n",
    "\n",
    "        ![image.png](../src/img/SQL/KPI/4.%20Average%20Interest%20Rate/avg_intestest_rate_mom.png)"
   ]
  },
  {
   "cell_type": "markdown",
   "metadata": {},
   "source": [
    "#### **5. Average Debt-to-Income Ratio (DTI):**"
   ]
  },
  {
   "cell_type": "markdown",
   "metadata": {},
   "source": [
    "**Explanation:** This KPI helps assess the overall financial health of the bank's borrowers by calculating the average debt-to-income (DTI) ratio across all loans. A high DTI ratio indicates borrowers who may be overextended and potentially at risk of defaulting on their loans.\n",
    "\n",
    "**Components:**"
   ]
  },
  {
   "cell_type": "markdown",
   "metadata": {},
   "source": [
    "1.  **Overall Average Debt-to-Income (DTI) Ratio**\n",
    "    *   **Explanation:** This metric calculates the average DTI ratio across all loans within the dataset. It's important to note that DTI calculations typically require borrower income information, which might not be available in your dataset. \n",
    "    *   **Query:**\n",
    "        ```sql\n",
    "        SELECT\n",
    "            ROUND(AVG(dti), 3) AS avg_dti\n",
    "        FROM\n",
    "            bank_loan_data\n",
    "        ```\n",
    "    *   **Result:**\n",
    "   \n",
    "        ![image.png](../src/img/SQL/KPI/5.%20Average%20Debt-to-Income%20Ratio%20(DTI)/avg_dti_total.png)"
   ]
  },
  {
   "cell_type": "markdown",
   "metadata": {},
   "source": [
    "2.  **Monthly Average Debt-to-Income (DTI) Ratio**\n",
    "    *   **Explanation:** This metric tracks the average DTI ratio on a month-by-month basis, revealing potential trends in borrower risk profiles over time.\n",
    "    *   **Query:**\n",
    "        ```sql\n",
    "        SELECT\n",
    "            DATENAME(month, issue_date) AS month,\n",
    "            ROUND(AVG(dti), 3) AS avg_dti\n",
    "        FROM\n",
    "            bank_loan_data\n",
    "        GROUP BY\n",
    "            DATENAME(month, issue_date),\n",
    "            MONTH(issue_date)\n",
    "        ORDER BY\n",
    "            MONTH(issue_date);\n",
    "        ```\n",
    "    *   **Result:**\n",
    "\n",
    "        ![image.png](../src/img/SQL/KPI/5.%20Average%20Debt-to-Income%20Ratio%20(DTI)/avg_dti_mtd.png)\n",
    "\n",
    "    *   **Note:** To simplify the next calculation, I've stored the revised query results in a new table called \"[table name]\".\n",
    "    *   **Query:**\n",
    "        ```sql\n",
    "        SELECT\n",
    "            DATENAME(month, issue_date) AS month,\n",
    "            MONTH(issue_date) AS month_num,\n",
    "            ROUND(AVG(dti), 3) AS avg_dti\n",
    "        INTO\n",
    "            monthly_avg_dti\n",
    "        FROM\n",
    "            bank_loan_data\n",
    "        GROUP BY\n",
    "            DATENAME(month, issue_date),\n",
    "            MONTH(issue_date)\n",
    "        ORDER BY\n",
    "            MONTH(issue_date);\n",
    "        ```"
   ]
  },
  {
   "cell_type": "markdown",
   "metadata": {},
   "source": [
    "3.  **Month-Over-Month (MoM) Percentage Change in Average DTI**\n",
    "    *   **Explanation:** This metric calculates the percentage change in the average DTI ratio from one month to the next, highlighting shifts in the overall risk profile of borrowers over time.\n",
    "    *   **Query:**\n",
    "        ```sql\n",
    "        SELECT\n",
    "            m1.month AS Month,\n",
    "            CAST(((m1.avg_dti - m2.avg_dti) * 100.0 / m2.avg_dti) AS DECIMAL(10,3)) AS avg_dti_MoM_change_pct\n",
    "        FROM\n",
    "            monthly_avg_dti AS m1\n",
    "        LEFT JOIN\n",
    "            monthly_avg_dti AS m2\n",
    "        ON\n",
    "            m1.month_num = m2.month_num + 1\n",
    "        ORDER BY\n",
    "            m1.month_num;\n",
    "        ```\n",
    "    *   **Result:**\n",
    "\n",
    "        ![image.png](../src/img/SQL/KPI/5.%20Average%20Debt-to-Income%20Ratio%20(DTI)/avg_dti_mom.png)"
   ]
  },
  {
   "cell_type": "markdown",
   "metadata": {},
   "source": [
    "#### **6. Good Loan vs. Bad Loan Performance:**"
   ]
  },
  {
   "cell_type": "markdown",
   "metadata": {},
   "source": [
    "**Explanation:** Evaluating the performance of your loan portfolio requires understanding the health of both \"good loans\" and \"bad loans.\" This KPI uses loan status criteria to distinguish between these categories and provides key metrics for assessing lending effectiveness and potential risk areas.\n",
    "\n",
    "**Good Loans:** A loan is considered \"good\" if its status falls under either \"Fully Paid\" or \"Current.\"\n",
    "\n",
    "**Bad Loans:** A loan is considered \"bad\" if its status is \"Charged Off.\"\n",
    "\n",
    "**Components:**"
   ]
  },
  {
   "cell_type": "markdown",
   "metadata": {},
   "source": [
    "##### **6.1. Good Loan KPIs:**"
   ]
  },
  {
   "cell_type": "markdown",
   "metadata": {},
   "source": [
    "1. **Good Loan Application Percentage:**\n",
    "    * **Explanation:** This metric calculates the percentage of loan applications classified as good loans. \n",
    "    * **Query:**\n",
    "        ```sql\n",
    "        SELECT\n",
    "            CAST(SUM(IIF(loan_status = 'Fully Paid' OR loan_status = 'Current', 1.0, 0.0))/COUNT(*) * 100 AS DECIMAL(10,3)) AS Good_Loan_App_Pct\n",
    "        FROM\n",
    "            bank_loan_data;\n",
    "        ```\n",
    "    * **Result:** \n",
    "    \n",
    "        ![image.png](../src/img/SQL/KPI/6.%20Good%20Loan%20vs.%20Bad%20Loan%20Performance/Good%20Loan/goodloanpct.png)"
   ]
  },
  {
   "cell_type": "markdown",
   "metadata": {},
   "source": [
    "2. **Good Loan Applications:**\n",
    "    * **Explanation:** This metric identifies the total number of loan applications that fall under the good loan category.\n",
    "    * **Query:**\n",
    "        ```sql\n",
    "        SELECT\n",
    "            COUNT(*) AS total_num_of_good_loans\n",
    "        FROM\n",
    "            bank_loan_data\n",
    "        WHERE\n",
    "            loan_status = 'Fully Paid' OR loan_status = 'Current';\n",
    "        ```\n",
    "    * **Result:**\n",
    "\n",
    "        ![image.png](../src/img/SQL/KPI/6.%20Good%20Loan%20vs.%20Bad%20Loan%20Performance/Good%20Loan/totalamtgoodloan.png)"
   ]
  },
  {
   "cell_type": "markdown",
   "metadata": {},
   "source": [
    "3. **Good Loan Funded Amount:**\n",
    "    * **Explanation:** This metric calculates the total amount of funds disbursed for good loans. \n",
    "    * **Query:**\n",
    "        ```sql\n",
    "        SELECT\n",
    "            SUM(loan_amount) AS gl_total_funded_amount\n",
    "        FROM\n",
    "            bank_loan_data\n",
    "        WHERE\n",
    "            loan_status = 'Fully Paid' OR loan_status = 'Current';\n",
    "        ```\n",
    "    * **Result:**\n",
    "\n",
    "        ![image.png](../src/img/SQL/KPI/6.%20Good%20Loan%20vs.%20Bad%20Loan%20Performance/Good%20Loan/totalfundedamount.png)"
   ]
  },
  {
   "cell_type": "markdown",
   "metadata": {},
   "source": [
    "4. **Good Loan Total Received Amount:**\n",
    "    * **Explanation:** This metric tracks the total amount of money received from borrowers for good loans.\n",
    "    * **Query:**\n",
    "        ```sql\n",
    "        SELECT\n",
    "            SUM(total_payment) AS gl_total_amount_received\n",
    "        FROM\n",
    "            bank_loan_data\n",
    "        WHERE\n",
    "            loan_status = 'Fully Paid' OR loan_status = 'Current';\n",
    "        ```\n",
    "    * **Result:**\n",
    "\n",
    "        ![image.png](../src/img/SQL/KPI/6.%20Good%20Loan%20vs.%20Bad%20Loan%20Performance/Good%20Loan/totalamtreciveidgl.png)"
   ]
  },
  {
   "cell_type": "markdown",
   "metadata": {},
   "source": [
    "##### **6.2. Bad Loan KPIs:**"
   ]
  },
  {
   "cell_type": "markdown",
   "metadata": {},
   "source": [
    "1. **Bad Loan Application Percentage:**\n",
    "    * **Explanation:** This metric calculates the percentage of loan applications classified as bad loans.\n",
    "    * **Query:**\n",
    "        ```sql\n",
    "        SELECT\n",
    "            CAST(SUM(IIF(loan_status = 'Charged Off', 1.0, 0.0))/COUNT(*) * 100 AS DECIMAL(10,3)) AS Bad_Loan_App_Pct\n",
    "        FROM\n",
    "            bank_loan_data;\n",
    "        ```\n",
    "    * **Result:**\n",
    "\n",
    "        ![image.png](../src/img/SQL/KPI/6.%20Good%20Loan%20vs.%20Bad%20Loan%20Performance/Bad%20Loan/badloanpct.png)"
   ]
  },
  {
   "cell_type": "markdown",
   "metadata": {},
   "source": [
    "2. **Bad Loan Applications:**\n",
    "    * **Explanation:** This metric identifies the total number of loan applications that fall under the bad loan category.\n",
    "    * **Query:**\n",
    "        ```sql\n",
    "        SELECT\n",
    "            COUNT(*) AS total_num_of_bl\n",
    "        FROM\n",
    "            bank_loan_data\n",
    "        WHERE\n",
    "            loan_status = 'Charged Off';\n",
    "        ```\n",
    "    * **Result:**\n",
    "\n",
    "        ![image.png](../src/img/SQL/KPI/6.%20Good%20Loan%20vs.%20Bad%20Loan%20Performance/Bad%20Loan/bl_total_amt.png)      "
   ]
  },
  {
   "cell_type": "markdown",
   "metadata": {},
   "source": [
    "3. **Bad Loan Funded Amount:**\n",
    "    * **Explanation:** This metric calculates the total amount of funds disbursed for bad loans.\n",
    "    * **Query:**\n",
    "        ```sql\n",
    "        SELECT\n",
    "            SUM(loan_amount) AS bl_total_funded_amount\n",
    "        FROM\n",
    "            bank_loan_data\n",
    "        WHERE\n",
    "            loan_status = 'Charged Off';\n",
    "        ```\n",
    "    * **Result:** \n",
    "\n",
    "        ![image.png](../src/img/SQL/KPI/6.%20Good%20Loan%20vs.%20Bad%20Loan%20Performance/Bad%20Loan/bl_funded_amt.png)"
   ]
  },
  {
   "cell_type": "markdown",
   "metadata": {},
   "source": [
    "4. **Bad Loan Total Received Amount:**\n",
    "    * **Explanation:** This metric tracks the total amount of money received from borrowers for bad loans.\n",
    "    * **Query:**\n",
    "        ```sql\n",
    "        SELECT\n",
    "            SUM(total_payment) AS bl_total_amount_received\n",
    "        FROM\n",
    "            bank_loan_data\n",
    "        WHERE\n",
    "            loan_status = 'Charged Off';\n",
    "        ```\n",
    "    * **Result:**\n",
    "\n",
    "        ![image.png](../src/img/SQL/KPI/6.%20Good%20Loan%20vs.%20Bad%20Loan%20Performance/Bad%20Loan/bl_total_amt_recvied.png)"
   ]
  },
  {
   "cell_type": "markdown",
   "metadata": {},
   "source": [
    "#### **7. Loan Status Grid View**"
   ]
  },
  {
   "cell_type": "markdown",
   "metadata": {},
   "source": [
    "**Explanation:** This report offers a comprehensive summary of key lending performance indicators, categorized by 'Loan Status.' This structured view allows the bank to quickly assess the health of different segments within its loan portfolio, compare KPIs across loan statuses, and potentially identify areas for risk mitigation or targeted growth opportunities.  \n",
    "* **Query:**\n",
    "    ```sql\n",
    "    SELECT\n",
    "        loan_status,\n",
    "        COUNT(*) AS total_loan_app,\n",
    "        CAST((CAST(COUNT(*)  AS FLOAT)/ CAST(38576 AS FLOAT) * 100) AS DECIMAL(10,3)) AS total_loan_app_pct, \n",
    "        SUM(loan_amount) AS total_funded_amt,\n",
    "        SUM(total_payment) AS total_amt_received,\n",
    "        CAST(((CAST(SUM(total_payment) AS FLOAT) - CAST(SUM(loan_amount) AS FLOAT)) / CAST(SUM(loan_amount) AS FLOAT) * 100) AS DECIMAL(10,3)) AS loan_profit_ratio,\n",
    "        SUM(IIF(MONTH(issue_date) = 12, loan_amount, 0)) AS mtd_funded_amt,\n",
    "        SUM(IIF(MONTH(issue_date) = 12, total_payment, 0)) AS mtd_amt_received,\n",
    "        ROUND(AVG(int_rate) * 100, 3) AS avg_interest_rate,\n",
    "        ROUND(AVG(dti), 3) AS avg_dti\n",
    "    FROM\n",
    "        bank_loan_data\n",
    "    GROUP BY\n",
    "        loan_status;\n",
    "    ```\n",
    "* **Result:**\n",
    "\n",
    "    ![image-2.png](../src/img/SQL/KPI/7.%20Loan%20Status%20Grid%20View/grid_view.png)"
   ]
  },
  {
   "cell_type": "markdown",
   "metadata": {},
   "source": [
    "## **Creating SQL Tables for Dashboard Overviews**"
   ]
  },
  {
   "cell_type": "markdown",
   "metadata": {},
   "source": [
    "Beyond standard KPIs, we aim to visually represent critical loan-related metrics and trends through a variety of charts in our Tableau dashboard. These visualizations will offer a clear and intuitive overview of our lending operations, allowing stakeholders to easily grasp insights and make data-driven decisions."
   ]
  },
  {
   "cell_type": "markdown",
   "metadata": {},
   "source": [
    "**Building the Foundation: SQL Queries for Dashboard Tables**\n",
    "\n",
    "Before diving into the creation of these charts, we first need to prepare the data in a format that is readily consumable by Tableau. To achieve this, we'll utilize SQL queries to extract and aggregate specific information from our database, generating structured tables that will serve as the backbone for our dashboard visualizations. Each query will be designed with the goal of answering specific business questions and highlighting key relationships within the loan data.\n",
    "\n",
    "This section will detail the SQL queries used to generate each table, along with the rationale behind the chosen metrics and aggregation methods.\n"
   ]
  },
  {
   "cell_type": "markdown",
   "metadata": {},
   "source": [
    "#### **1. Monthly Trends by Issue Date (Line Chart):**"
   ]
  },
  {
   "cell_type": "markdown",
   "metadata": {},
   "source": [
    "* **Explanation:** This query aggregates key loan metrics (total loan applications, total funded amount, and total amount received) by the month in which the loan was issued. This table will provide a foundational dataset for creating visualizations that showcase monthly trends in these metrics within the Tableau dashboard.\n",
    "\n",
    "* **Query:**\n",
    "  ```sql\n",
    "  SELECT\n",
    "    DATENAME(month, issue_date) AS Month,\n",
    "    COUNT(*) AS total_loan_application,\n",
    "    SUM(loan_amount) AS total_funded_amount,\n",
    "    SUM(total_payment) AS total_amount_received\n",
    "  FROM \n",
    "    bank_loan_data\n",
    "  GROUP BY\n",
    "    DATENAME(month, issue_date),\n",
    "    MONTH(issue_date)\n",
    "  ORDER BY\n",
    "    MONTH(issue_date);\n",
    "  ```\n",
    "\n",
    "* **Result:**\n",
    "    \n",
    "    ![image.png](../src/img/SQL/Dashboard_Overview/1_monthly_trends_by_isssue.png)"
   ]
  },
  {
   "cell_type": "markdown",
   "metadata": {},
   "source": [
    "#### **2. Regional Analysis by State (Filled Map):**"
   ]
  },
  {
   "cell_type": "markdown",
   "metadata": {},
   "source": [
    "**Explanation:** This query aims to provide insights into loan performance across different geographical regions (states). By aggregating loan metrics such as total applications, total funded amount, and total amount received by state, we can identify potential regional trends and disparities in lending activity.\n",
    "\n",
    "* **Query:**\n",
    "  ```sql\n",
    "  SELECT\n",
    "    address_state AS state_name,\n",
    "    COUNT(*) AS total_loan_application,\n",
    "    SUM(loan_amount) AS total_funded_amount,\n",
    "    SUM(total_payment) AS total_amount_received\n",
    "  FROM \n",
    "    bank_loan_data\n",
    "  GROUP BY\n",
    "    address_state\n",
    "  ORDER BY\n",
    "      address_state;\n",
    "  ```\n",
    "\n",
    "* **Result:** \n",
    "\n",
    "    ![image.png](../src/img/SQL/Dashboard_Overview/2_regional_analysis_by_state.png)\n"
   ]
  },
  {
   "cell_type": "markdown",
   "metadata": {},
   "source": [
    "#### **3. Loan Term Analysis (Donut Chart):**"
   ]
  },
  {
   "cell_type": "markdown",
   "metadata": {},
   "source": [
    "**Explanation:** This query delves into the distribution of loan terms within the portfolio. By aggregating key metrics based on loan term length, we can gain insights into the popularity of different terms, their associated funding amounts, and repayment patterns. This data will be visualized in the Tableau dashboard as a donut chart, providing a clear visual breakdown of loan terms.\n",
    "\n",
    "* **Query:**\n",
    " \n",
    "  ```sql\n",
    "  SELECT\n",
    "    term AS loan_term_length,\n",
    "    COUNT(*) AS total_loan_application,\n",
    "    SUM(loan_amount) AS total_funded_amount,\n",
    "    SUM(total_payment) AS total_amount_received\n",
    "  FROM \n",
    "\tbank_loan_data\n",
    "  GROUP BY\n",
    "\tterm\n",
    "  ORDER BY\n",
    "\tterm;\n",
    "  ```\n",
    "\n",
    "* **Result:** \n",
    "\n",
    "\t![image.png](../src/img/SQL/Dashboard_Overview/3_loan_term_analysis.png)"
   ]
  },
  {
   "cell_type": "markdown",
   "metadata": {},
   "source": [
    "#### **4. Employee Length Analysis (Bar Chart):**"
   ]
  },
  {
   "cell_type": "markdown",
   "metadata": {},
   "source": [
    "**Explanation:** This query analyzes loan metrics in relation to the employment length of borrowers.  It categorizes borrowers based on their years of employment and aggregates key metrics like total loan applications, total funded amount, and total amount received. The results will be visualized in the Tableau dashboard as a bar graph, comparing loan activity and repayment behavior across different employment length categories.\n",
    "\n",
    "* **Query:**\n",
    "\n",
    "  ```sql\n",
    "  SELECT\n",
    "    emp_length AS employee_len,\n",
    "    COUNT(*) AS total_loan_application,\n",
    "    SUM(loan_amount) AS total_funded_amount,\n",
    "    SUM(total_payment) AS total_amount_received\n",
    "  FROM \n",
    "    bank_loan_data\n",
    "  GROUP BY\n",
    "    emp_length\n",
    "  ORDER BY\n",
    "    emp_length;\n",
    "  ```\n",
    "\n",
    "* **Result:** \n",
    "\n",
    "\t![image.png](../src/img/SQL/Dashboard_Overview/4_employee_length_analysis.png)"
   ]
  },
  {
   "cell_type": "markdown",
   "metadata": {},
   "source": [
    "#### **5. Loan Purpose Breakdown (Bar Chart):**"
   ]
  },
  {
   "cell_type": "markdown",
   "metadata": {},
   "source": [
    "**Explanation:** This query aims to shed light on the different purposes for which borrowers are seeking loans. By aggregating key metrics based on loan purpose, we can gain insights into the most common reasons for borrowing, the average loan amounts associated with each purpose, and their relative success rates. This information will be presented in a bar chart in the Tableau dashboard, allowing stakeholders to visually compare these metrics across various loan purposes.\n",
    "\n",
    "* **Query:**\n",
    "\t```sql\n",
    "\tSELECT\n",
    "\t  purpose AS loan_purpose,\n",
    "\t  COUNT(*) AS total_loan_application,\n",
    "\t  SUM(loan_amount) AS total_funded_amount,\n",
    "\t  SUM(total_payment) AS total_amount_received\n",
    "\tFROM \n",
    "\t  bank_loan_data\n",
    "\tGROUP BY\n",
    "\t  purpose\n",
    "\tORDER BY\n",
    "\t  purpose;\n",
    "\t```\n",
    "\n",
    "* **Result:**\n",
    "    \n",
    "\t\n",
    "\t![image.png](../src/img/SQL/Dashboard_Overview/5_loan_purpose_analysis.png)"
   ]
  },
  {
   "cell_type": "markdown",
   "metadata": {},
   "source": [
    "#### **6. Home Ownership Analysis (Tree Map):**"
   ]
  },
  {
   "cell_type": "markdown",
   "metadata": {},
   "source": [
    "**Explanation:** This query aims to examine the relationship between home ownership status and various loan metrics. By aggregating data based on whether borrowers own, rent, or mortgage their homes, we can uncover potential insights into borrower behavior, risk profiles, and the impact of home ownership on loan performance. This information will be presented as a tree map in the Tableau dashboard, providing a hierarchical view of loan metrics categorized by different home ownership statuses.\n",
    "\n",
    "* **Query:**\n",
    "\n",
    "  ```sql\n",
    "  SELECT\n",
    "\thome_ownership,\n",
    "\tCOUNT(*) AS total_loan_application,\n",
    "\tSUM(loan_amount) AS total_funded_amount,\n",
    "\tSUM(total_payment) AS total_amount_received\n",
    "  FROM \n",
    "\tbank_loan_data\n",
    "  GROUP BY\n",
    "\thome_ownership\n",
    "  ORDER BY\n",
    "\thome_ownership;\n",
    "  ```\n",
    "\n",
    "* **Result:**\n",
    "\n",
    "    ![image.png](../src/img/SQL/Dashboard_Overview/6_home_ownership_analysis.png)"
   ]
  }
 ],
 "metadata": {
  "kernelspec": {
   "display_name": "Python 3 (ipykernel)",
   "language": "python",
   "name": "python3"
  },
  "language_info": {
   "codemirror_mode": {
    "name": "ipython",
    "version": 3
   },
   "file_extension": ".py",
   "mimetype": "text/x-python",
   "name": "python",
   "nbconvert_exporter": "python",
   "pygments_lexer": "ipython3",
   "version": "3.11.3"
  }
 },
 "nbformat": 4,
 "nbformat_minor": 4
}
